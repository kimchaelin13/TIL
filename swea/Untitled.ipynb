{
 "cells": [
  {
   "cell_type": "code",
   "execution_count": 18,
   "metadata": {},
   "outputs": [
    {
     "name": "stdout",
     "output_type": "stream",
     "text": [
      "30\n"
     ]
    }
   ],
   "source": [
    "a = '6789'\n",
    "b=[]\n",
    "for i in a:\n",
    "    #print(i) #타입은 스트링\n",
    "    b.append(i)\n",
    "\n",
    "c =list(map(int,b))\n",
    "sum=0\n",
    "for i in c:\n",
    "    sum+=i\n",
    "\n",
    "print(sum)"
   ]
  },
  {
   "cell_type": "code",
   "execution_count": 20,
   "metadata": {},
   "outputs": [
    {
     "name": "stdout",
     "output_type": "stream",
     "text": [
      "30\n"
     ]
    }
   ],
   "source": [
    "a=6789\n",
    "str_a=str(a)\n",
    "\n",
    "b=[]\n",
    "for i in str_a:\n",
    "    #print(i) #타입은 스트링\n",
    "    b.append(i)\n",
    "\n",
    "c =list(map(int,b))\n",
    "sum=0\n",
    "for i in c:\n",
    "    sum+=i\n",
    "\n",
    "print(sum)\n"
   ]
  }
 ],
 "metadata": {
  "kernelspec": {
   "display_name": "Python 3",
   "language": "python",
   "name": "python3"
  },
  "language_info": {
   "codemirror_mode": {
    "name": "ipython",
    "version": 3
   },
   "file_extension": ".py",
   "mimetype": "text/x-python",
   "name": "python",
   "nbconvert_exporter": "python",
   "pygments_lexer": "ipython3",
   "version": "3.7.7"
  }
 },
 "nbformat": 4,
 "nbformat_minor": 4
}
